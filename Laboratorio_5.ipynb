{
  "nbformat": 4,
  "nbformat_minor": 0,
  "metadata": {
    "colab": {
      "name": "Laboratorio #5.ipynb",
      "provenance": []
    },
    "kernelspec": {
      "name": "python3",
      "display_name": "Python 3"
    }
  },
  "cells": [
    {
      "cell_type": "markdown",
      "metadata": {
        "id": "srOtDFSplrSP",
        "colab_type": "text"
      },
      "source": [
        "# Laboratorio 5: Prediccion de Texto\n",
        "\n",
        "* Eric Mendoza 15002\n",
        "* Marlon Fuentes 15240\n",
        "* Jose Jo 14343\n",
        "---\n"
      ]
    },
    {
      "cell_type": "markdown",
      "metadata": {
        "id": "rMG3fQPMnABu",
        "colab_type": "text"
      },
      "source": [
        "## Introduccion"
      ]
    },
    {
      "cell_type": "markdown",
      "metadata": {
        "id": "8ozSPCGznC-v",
        "colab_type": "text"
      },
      "source": [
        "\n",
        "Usando más de 4 millones de entradas de texto, combinadas de twitter, publicaciones de blog y artículos de noticias, crearemos un motor de texto predictivo en una aplicación Shiny. Para este laboratorio, simplemente demostraremos el proceso de limpieza y motor para otras personas que desean aprender a trabajar con el lenguaje natural con caracteres, rápidamente.\n",
        "\n"
      ]
    },
    {
      "cell_type": "code",
      "metadata": {
        "id": "KFbbU5-wki28",
        "colab_type": "code",
        "colab": {}
      },
      "source": [
        "import os\n",
        "import pandas as pd\n",
        "import numpy as np\n",
        "\n",
        "import seaborn as sns\n",
        "color = sns.color_palette()\n",
        "sns.set_style('darkgrid')\n",
        "\n",
        "import matplotlib.pyplot as plt\n",
        "%matplotlib inline\n"
      ],
      "execution_count": 0,
      "outputs": []
    },
    {
      "cell_type": "markdown",
      "metadata": {
        "id": "1Q8gzxk6l75w",
        "colab_type": "text"
      },
      "source": [
        "## Carga de data\n",
        "Cargar la data desde github."
      ]
    },
    {
      "cell_type": "code",
      "metadata": {
        "id": "VumvxQdImdaO",
        "colab_type": "code",
        "colab": {}
      },
      "source": [
        ""
      ],
      "execution_count": 0,
      "outputs": []
    },
    {
      "cell_type": "markdown",
      "metadata": {
        "id": "g_092ZTOmbhy",
        "colab_type": "text"
      },
      "source": [
        "## 1. Preprocesamiento de Data"
      ]
    },
    {
      "cell_type": "markdown",
      "metadata": {
        "id": "BerdzmUXmp62",
        "colab_type": "text"
      },
      "source": [
        "# Analisis Exploratorio\n"
      ]
    }
  ]
}